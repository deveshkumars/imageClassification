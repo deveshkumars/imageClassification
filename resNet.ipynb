{
  "cells": [
    {
      "attachments": {},
      "cell_type": "markdown",
      "metadata": {
        "id": "1nuWJnVYImB9"
      },
      "source": [
        "# ResNet with TensorFlow\n",
        "## An implementation of a Residual Neural Network with transfer learning using classes to classify the mnist handwritten digits database"
      ]
    },
    {
      "cell_type": "markdown",
      "metadata": {
        "id": "UPj2-LJwImCA"
      },
      "source": [
        "### Setup"
      ]
    },
    {
      "cell_type": "code",
      "execution_count": 1,
      "metadata": {
        "colab": {
          "base_uri": "https://localhost:8080/"
        },
        "id": "QvU_esoZImCB",
        "outputId": "fb956821-b543-45e9-c11a-9532c366aa79"
      },
      "outputs": [
        {
          "name": "stderr",
          "output_type": "stream",
          "text": [
            "2023-06-23 00:20:15.381839: I tensorflow/core/platform/cpu_feature_guard.cc:193] This TensorFlow binary is optimized with oneAPI Deep Neural Network Library (oneDNN) to use the following CPU instructions in performance-critical operations:  AVX2 FMA\n",
            "To enable them in other operations, rebuild TensorFlow with the appropriate compiler flags.\n"
          ]
        },
        {
          "name": "stdout",
          "output_type": "stream",
          "text": [
            "TensorFlow version: 2.10.0\n"
          ]
        }
      ],
      "source": [
        "# Import statements\n",
        "import tensorflow as tf\n",
        "print(\"TensorFlow version:\", tf.__version__)\n",
        "\n",
        "from tensorflow.keras.layers import Dense, Flatten, Conv2D\n",
        "from tensorflow.keras import Model, losses, models, layers, datasets\n",
        "import matplotlib.pyplot as plt"
      ]
    },
    {
      "cell_type": "code",
      "execution_count": 2,
      "metadata": {
        "colab": {
          "base_uri": "https://localhost:8080/"
        },
        "id": "XUqgb5EuImCD",
        "outputId": "8b00478e-8357-4ff0-9c26-0ad25ce99111"
      },
      "outputs": [
        {
          "name": "stderr",
          "output_type": "stream",
          "text": [
            "2023-06-23 00:20:34.770036: I tensorflow/core/platform/cpu_feature_guard.cc:193] This TensorFlow binary is optimized with oneAPI Deep Neural Network Library (oneDNN) to use the following CPU instructions in performance-critical operations:  AVX2 FMA\n",
            "To enable them in other operations, rebuild TensorFlow with the appropriate compiler flags.\n"
          ]
        }
      ],
      "source": [
        "# Data\n",
        "fashion_mnist = datasets.mnist\n",
        "(x_train, y_train), (x_test, y_test) = fashion_mnist.load_data()\n",
        "\n",
        "# Scaling images between 0 and 1\n",
        "x_train, x_test = x_train/255, x_test/255\n",
        "\n",
        "# Resizing images to be 32x32 because that is the minimum\n",
        "x_train = tf.pad(x_train, [[0,0], [2,2], [2,2]])\n",
        "x_test = tf.pad(x_test, [[0, 0], [2,2], [2,2]])\n",
        "\n",
        "x_train = tf.expand_dims(x_train, axis=3, name=None)\n",
        "x_test = tf.expand_dims(x_test, axis=3, name=None)\n",
        "x_train = tf.repeat(x_train, 3, axis=3)\n",
        "x_test = tf.repeat(x_test, 3, axis=3)\n",
        "\n",
        "\n",
        "# Create a validation set\n",
        "x_val = x_train[-2000:,:,:]\n",
        "y_val = y_train[-2000:]\n",
        "x_train = x_train[:-2000,:,:]\n",
        "y_train = y_train[:-2000]\n",
        "\n",
        "# Batching and shuffling the dataset (Marked for review)\n",
        "# train_ds = tf.data.Dataset.from_tensor_slices(\n",
        "#     (x_train, y_train)).shuffle(10000).batch(32)\n",
        "# test_ds = tf.data.Dataset.from_tensor_slices((x_test, y_test)).batch(32)"
      ]
    },
    {
      "cell_type": "markdown",
      "metadata": {
        "id": "95bAoJHaImCF"
      },
      "source": [
        "### Building the Model"
      ]
    },
    {
      "cell_type": "code",
      "execution_count": 3,
      "metadata": {
        "colab": {
          "base_uri": "https://localhost:8080/"
        },
        "id": "IviNIY8sImCF",
        "outputId": "2259da80-2ba7-4c6e-c877-8d8effe03418"
      },
      "outputs": [],
      "source": [
        "# Base Model\n",
        "base_model = tf.keras.applications.ResNet152(weights=\"imagenet\", include_top = False, input_shape = (32,32,3))\n",
        "\n",
        "for layer in base_model.layers:\n",
        "    layer.trainable = False\n",
        "\n",
        "class MyModel(Model):\n",
        "    def __init__(self):\n",
        "        super(MyModel, self).__init__()\n",
        "        self.flatten = Flatten()(base_model.output)\n",
        "        self.d1 = Dense(1024, activation=\"relu\")\n",
        "        self.d2 = Dense(10)\n",
        "    \n",
        "    def call(self, x):\n",
        "        x = self.flatten(x)\n",
        "        x = self.d1(x)\n",
        "        return self.d2(x)\n",
        "\n",
        "model = MyModel()\n",
        "predictions = model\n"
      ]
    },
    {
      "cell_type": "code",
      "execution_count": 4,
      "metadata": {
        "id": "XwRIze_dImCH"
      },
      "outputs": [],
      "source": [
        "# Specific Code\n",
        "x = Flatten()(base_model.output)\n",
        "x = Dense(1000, activation=\"relu\")(x)\n",
        "predictions = layers.Dense(10, activation = \"softmax\")(x)"
      ]
    },
    {
      "cell_type": "code",
      "execution_count": 5,
      "metadata": {
        "id": "sps1EEPbImCH"
      },
      "outputs": [],
      "source": [
        "head_model = Model(inputs = base_model.input, outputs=predictions)\n",
        "head_model.compile(optimizer=\"adam\", loss=losses.sparse_categorical_crossentropy, metrics=[\"accuracy\"])"
      ]
    },
    {
      "cell_type": "markdown",
      "metadata": {
        "id": "c2wCOtqIImCI"
      },
      "source": [
        "### Running the Model"
      ]
    },
    {
      "cell_type": "code",
      "execution_count": null,
      "metadata": {},
      "outputs": [],
      "source": [
        "history = head_model.fit(x_train, y_train, batch_size=128, epochs=30, validation_data=(x_val, y_val))\n",
        "# Could not run fast enough on personal computer, thus this line was run on google colab for increased computational power."
      ]
    },
    {
      "cell_type": "code",
      "execution_count": null,
      "metadata": {
        "colab": {
          "base_uri": "https://localhost:8080/"
        },
        "id": "wqPWQmZNL5Lz",
        "outputId": "4b9f164f-30b1-4f95-faa1-6b9329e01660"
      },
      "outputs": [
        {
          "name": "stdout",
          "output_type": "stream",
          "text": [
            "313/313 [==============================] - 18s 55ms/step - loss: 0.2853 - accuracy: 0.9071\n"
          ]
        },
        {
          "data": {
            "text/plain": [
              "[0.2853456139564514, 0.9071000218391418]"
            ]
          },
          "execution_count": 7,
          "metadata": {},
          "output_type": "execute_result"
        }
      ],
      "source": [
        "head_model.evaluate(x_test, y_test)"
      ]
    }
  ],
  "metadata": {
    "accelerator": "GPU",
    "colab": {
      "collapsed_sections": [],
      "name": "resNet.ipynb",
      "provenance": []
    },
    "gpuClass": "standard",
    "kernelspec": {
      "display_name": "Python 3.8.9 64-bit",
      "language": "python",
      "name": "python3"
    },
    "language_info": {
      "codemirror_mode": {
        "name": "ipython",
        "version": 3
      },
      "file_extension": ".py",
      "mimetype": "text/x-python",
      "name": "python",
      "nbconvert_exporter": "python",
      "pygments_lexer": "ipython3",
      "version": "3.9.6"
    },
    "orig_nbformat": 4,
    "vscode": {
      "interpreter": {
        "hash": "31f2aee4e71d21fbe5cf8b01ff0e069b9275f58929596ceb00d14d90e3e16cd6"
      }
    }
  },
  "nbformat": 4,
  "nbformat_minor": 0
}
