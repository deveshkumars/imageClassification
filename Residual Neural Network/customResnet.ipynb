{
  "nbformat": 4,
  "nbformat_minor": 0,
  "metadata": {
    "colab": {
      "provenance": []
    },
    "kernelspec": {
      "name": "python3",
      "display_name": "Python 3"
    },
    "language_info": {
      "name": "python"
    }
  },
  "cells": [
    {
      "cell_type": "markdown",
      "source": [
        "Custom Built Residual Neural Network"
      ],
      "metadata": {
        "id": "r6jUQ6LnI0W2"
      }
    },
    {
      "cell_type": "code",
      "execution_count": 28,
      "metadata": {
        "colab": {
          "base_uri": "https://localhost:8080/"
        },
        "id": "jbFHTtaeNJYD",
        "outputId": "f32cb47e-6f1c-4b17-945c-6628862c60a7"
      },
      "outputs": [
        {
          "output_type": "stream",
          "name": "stdout",
          "text": [
            "TensorFlow version 2.12.0\n"
          ]
        }
      ],
      "source": [
        "# Setup\n",
        "import tensorflow as tf\n",
        "print(\"TensorFlow version\", tf.__version__)\n",
        "\n",
        "from tensorflow.keras.layers import Dense, Flatten, Conv2D, Input, BatchNormalization, Activation, Dropout, AveragePooling2D\n",
        "from tensorflow.keras import Model, losses, models, layers, datasets, optimizers\n",
        "import matplotlib.pyplot as plt\n"
      ]
    },
    {
      "cell_type": "code",
      "source": [
        "fashion_mnist = datasets.mnist\n",
        "\n",
        "(x_train, y_train), (x_test, y_test) = fashion_mnist.load_data()\n",
        "x_train, x_test = x_train/255, x_test/255\n",
        "\n",
        "# Channels Dimms\n",
        "x_train = x_train[..., tf.newaxis].astype(\"float32\")\n",
        "x_test = x_test[..., tf.newaxis].astype(\"float32\")\n",
        "\n",
        "# Batching and shuffling the dataset\n",
        "train_ds = tf.data.Dataset.from_tensor_slices(\n",
        "    (x_train, y_train)).shuffle(10000).batch(512)\n",
        "test_ds = tf.data.Dataset.from_tensor_slices((x_test, y_test)).batch(512)"
      ],
      "metadata": {
        "id": "Pmzi9T0dLGGX"
      },
      "execution_count": 41,
      "outputs": []
    },
    {
      "cell_type": "code",
      "source": [
        "def residual_block(X, num_filters: int, stride: int = 1, kernel_size: int = 3,\n",
        "                   activation: str = \"relu\", bn: bool = True, conv_first: bool = True):\n",
        "  \"\"\"\n",
        "  Variables\n",
        "  X: Tensor from previous layer\n",
        "  num_filters: Conv2d number of filters\n",
        "  stride: Stride? square dimension\n",
        "  kernel_size: default 3, conv2d square kernel dimension\n",
        "  activation: str by default \"relu\n",
        "  bn: bath normalization\n",
        "  conv_first: bool by default true\n",
        "  \"\"\"\n",
        "\n",
        "  conv_layer = Conv2D(num_filters,\n",
        "                      kernel_size=kernel_size,\n",
        "                      strides=stride,\n",
        "                      padding=\"same\",\n",
        "                      kernel_regularizer=tf.keras.regularizers.L2(1e-4))\n",
        "\n",
        "  if conv_first:\n",
        "    X = conv_layer(X)\n",
        "    if bn:\n",
        "      X = BatchNormalization()(X)\n",
        "    if activation is not None:\n",
        "      X = Activation(activation)(X)\n",
        "      X = Dropout(0.2)(X)\n",
        "  else:\n",
        "    if bn:\n",
        "      X = BatchNormalization()(X)\n",
        "    if activation is not None:\n",
        "      X = Activation(activation)(X)\n",
        "    X = conv_layer(X)\n",
        "\n",
        "  return X\n",
        "\n"
      ],
      "metadata": {
        "id": "OvUKVwdJLnvR"
      },
      "execution_count": 29,
      "outputs": []
    },
    {
      "cell_type": "code",
      "source": [
        "# depth should be 9n+2 (eg 56 or 110)\n",
        "depth = 56\n",
        "\n",
        "# Model definition\n",
        "num_filters_in = 32\n",
        "num_res_block = int((depth - 2) / 9)\n",
        "\n",
        "inputs = Input(shape=(28,28,1))\n",
        "\n",
        "# ResNet V2 performs Conv2D on X before spiting into two path\n",
        "X = residual_block(X=inputs, num_filters=num_filters_in, conv_first=True)\n",
        "\n",
        "# Building stack of residual units\n",
        "for stage in range(3):\n",
        "    for unit_res_block in range(num_res_block):\n",
        "        activation = 'relu'\n",
        "        bn = True\n",
        "        stride = 1\n",
        "        # First layer and first stage\n",
        "        if stage == 0:\n",
        "            num_filters_out = num_filters_in * 4\n",
        "            if unit_res_block == 0:\n",
        "                activation = None\n",
        "                bn = False\n",
        "            # First layer but not first stage\n",
        "        else:\n",
        "            num_filters_out = num_filters_in * 2\n",
        "            if unit_res_block == 0:\n",
        "                stride = 2\n",
        "\n",
        "        # bottleneck residual unit\n",
        "        y = residual_block(X,\n",
        "                           num_filters=num_filters_in,\n",
        "                           kernel_size=1,\n",
        "                           stride=stride,\n",
        "                           activation=activation,\n",
        "                           bn=bn,\n",
        "                           conv_first=False)\n",
        "        y = residual_block(y,\n",
        "                           num_filters=num_filters_in,\n",
        "                           conv_first=False)\n",
        "        y = residual_block(y,\n",
        "                           num_filters=num_filters_out,\n",
        "                           kernel_size=1,\n",
        "                           conv_first=False)\n",
        "        if unit_res_block == 0:\n",
        "            # linear projection residual shortcut connection to match\n",
        "            # changed dims\n",
        "            X = residual_block(X=X,\n",
        "                               num_filters=num_filters_out,\n",
        "                               kernel_size=1,\n",
        "                               stride=stride,\n",
        "                               activation=None,\n",
        "                               bn=False)\n",
        "        X = tf.keras.layers.add([X, y])\n",
        "    num_filters_in = num_filters_out"
      ],
      "metadata": {
        "id": "TRGWWQ3fCYNk"
      },
      "execution_count": 30,
      "outputs": []
    },
    {
      "cell_type": "code",
      "source": [
        "X = BatchNormalization()(X)\n",
        "X = Activation('relu')(X)\n",
        "X = AveragePooling2D(pool_size=1)(X)\n",
        "y = Flatten()(X)\n",
        "y = Dense(512, activation='relu')(y)\n",
        "y = BatchNormalization()(y)\n",
        "y = Dropout(0.5)(y)\n",
        "\n",
        "outputs = Dense(10,\n",
        "                activation='softmax')(y)\n",
        "\n",
        "# Instantiate model.\n",
        "model = Model(inputs=inputs, outputs=outputs)"
      ],
      "metadata": {
        "id": "1pFxDlzSz5It"
      },
      "execution_count": 35,
      "outputs": []
    },
    {
      "cell_type": "code",
      "source": [
        "model.compile(optimizer=optimizers.Adam(learning_rate=10), loss=losses.sparse_categorical_crossentropy, metrics=[\"accuracy\"])\n",
        "history = model.fit(x_train, y_train, batch_size=512, epochs=5)"
      ],
      "metadata": {
        "colab": {
          "base_uri": "https://localhost:8080/"
        },
        "id": "F0VmwwLQ0Ak0",
        "outputId": "fc1861b1-6f60-4e05-8299-f2cdaeb04efc"
      },
      "execution_count": null,
      "outputs": [
        {
          "output_type": "stream",
          "name": "stdout",
          "text": [
            "Epoch 1/5\n",
            " 60/118 [==============>...............] - ETA: 1:09:26 - loss: 25425.6621 - accuracy: 0.2278"
          ]
        }
      ]
    }
  ]
}