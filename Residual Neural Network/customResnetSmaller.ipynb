{
  "nbformat": 4,
  "nbformat_minor": 0,
  "metadata": {
    "colab": {
      "provenance": []
    },
    "kernelspec": {
      "name": "python3",
      "display_name": "Python 3"
    },
    "language_info": {
      "name": "python"
    }
  },
  "cells": [
    {
      "cell_type": "markdown",
      "source": [
        "Custom Built Residual Neural Network"
      ],
      "metadata": {
        "id": "r6jUQ6LnI0W2"
      }
    },
    {
      "cell_type": "code",
      "execution_count": 1,
      "metadata": {
        "colab": {
          "base_uri": "https://localhost:8080/"
        },
        "id": "jbFHTtaeNJYD",
        "outputId": "43c0e7b6-4821-41ff-9f9d-b782a077163a"
      },
      "outputs": [
        {
          "output_type": "stream",
          "name": "stdout",
          "text": [
            "TensorFlow version 2.12.0\n"
          ]
        }
      ],
      "source": [
        "# Setup\n",
        "import tensorflow as tf\n",
        "print(\"TensorFlow version\", tf.__version__)\n",
        "\n",
        "from tensorflow.keras.layers import Dense, Flatten, Conv2D, Input, BatchNormalization, Activation, Dropout, AveragePooling2D\n",
        "from tensorflow.keras import Model, losses, models, layers, datasets, optimizers\n",
        "import matplotlib.pyplot as plt\n"
      ]
    },
    {
      "cell_type": "code",
      "source": [
        "fashion_mnist = datasets.mnist\n",
        "\n",
        "(x_train, y_train), (x_test, y_test) = fashion_mnist.load_data()\n",
        "x_train, x_test = x_train/255, x_test/255\n",
        "\n",
        "# Channels Dimms\n",
        "x_train = x_train[..., tf.newaxis].astype(\"float32\")\n",
        "x_test = x_test[..., tf.newaxis].astype(\"float32\")\n",
        "\n",
        "# Batching and shuffling the dataset\n",
        "train_ds = tf.data.Dataset.from_tensor_slices(\n",
        "    (x_train, y_train)).shuffle(10000).batch(512)\n",
        "test_ds = tf.data.Dataset.from_tensor_slices((x_test, y_test)).batch(512)"
      ],
      "metadata": {
        "id": "Pmzi9T0dLGGX",
        "outputId": "f56b0a7d-aa0b-4c06-ff83-88e223ed5916",
        "colab": {
          "base_uri": "https://localhost:8080/"
        }
      },
      "execution_count": 2,
      "outputs": [
        {
          "output_type": "stream",
          "name": "stdout",
          "text": [
            "Downloading data from https://storage.googleapis.com/tensorflow/tf-keras-datasets/mnist.npz\n",
            "11490434/11490434 [==============================] - 1s 0us/step\n"
          ]
        }
      ]
    },
    {
      "cell_type": "code",
      "source": [
        "def residual_block(X, num_filters: int, stride: int = 1, kernel_size: int = 3,\n",
        "                   activation: str = \"relu\", bn: bool = True, conv_first: bool = True):\n",
        "\n",
        "  conv_layer = Conv2D(num_filters,\n",
        "                      kernel_size=kernel_size,\n",
        "                      strides=stride,\n",
        "                      padding=\"same\",\n",
        "                      kernel_regularizer=tf.keras.regularizers.L2(1e-4))\n",
        "\n",
        "  if conv_first:\n",
        "    X = conv_layer(X)\n",
        "    if bn:\n",
        "      X = BatchNormalization()(X)\n",
        "    if activation is not None:\n",
        "      X = Activation(activation)(X)\n",
        "      X = Dropout(0.2)(X)\n",
        "  else:\n",
        "    if bn:\n",
        "      X = BatchNormalization()(X)\n",
        "    if activation is not None:\n",
        "      X = Activation(activation)(X)\n",
        "    X = conv_layer(X)\n",
        "\n",
        "  return X"
      ],
      "metadata": {
        "id": "OvUKVwdJLnvR"
      },
      "execution_count": 3,
      "outputs": []
    },
    {
      "cell_type": "code",
      "source": [
        "# depth should be 9n+2 (eg 56 or 110)\n",
        "depth = 11\n",
        "\n",
        "# Model definition\n",
        "num_filters_in = 32\n",
        "num_res_block = int((depth - 2) / 9)\n",
        "\n",
        "inputs = Input(shape=(28,28,1))\n",
        "\n",
        "# ResNet V2 performs Conv2D on X before spiting into two path\n",
        "X = residual_block(X=inputs, num_filters=num_filters_in, conv_first=True)\n",
        "\n",
        "# Building stack of residual units\n",
        "for stage in range(3):\n",
        "    for unit_res_block in range(num_res_block):\n",
        "        activation = 'relu'\n",
        "        bn = True\n",
        "        stride = 1\n",
        "        # First layer and first stage\n",
        "        if stage == 0:\n",
        "            num_filters_out = num_filters_in * 4\n",
        "            if unit_res_block == 0:\n",
        "                activation = None\n",
        "                bn = False\n",
        "            # First layer but not first stage\n",
        "        else:\n",
        "            num_filters_out = num_filters_in * 2\n",
        "            if unit_res_block == 0:\n",
        "                stride = 2\n",
        "\n",
        "        # bottleneck residual unit\n",
        "        y = residual_block(X,\n",
        "                           num_filters=num_filters_in,\n",
        "                           kernel_size=1,\n",
        "                           stride=stride,\n",
        "                           activation=activation,\n",
        "                           bn=bn,\n",
        "                           conv_first=False)\n",
        "        y = residual_block(y,\n",
        "                           num_filters=num_filters_in,\n",
        "                           conv_first=False)\n",
        "        y = residual_block(y,\n",
        "                           num_filters=num_filters_out,\n",
        "                           kernel_size=1,\n",
        "                           conv_first=False)\n",
        "        if unit_res_block == 0:\n",
        "            # linear projection residual shortcut connection to match\n",
        "            # changed dims\n",
        "            X = residual_block(X=X,\n",
        "                               num_filters=num_filters_out,\n",
        "                               kernel_size=1,\n",
        "                               stride=stride,\n",
        "                               activation=None,\n",
        "                               bn=False)\n",
        "        X = tf.keras.layers.add([X, y])\n",
        "    num_filters_in = num_filters_out"
      ],
      "metadata": {
        "id": "TRGWWQ3fCYNk"
      },
      "execution_count": 4,
      "outputs": []
    },
    {
      "cell_type": "code",
      "source": [
        "X = BatchNormalization()(X)\n",
        "X = Activation('relu')(X)\n",
        "X = AveragePooling2D(pool_size=1)(X)\n",
        "y = Flatten()(X)\n",
        "y = Dense(512, activation='relu')(y)\n",
        "y = BatchNormalization()(y)\n",
        "y = Dropout(0.5)(y)\n",
        "\n",
        "outputs = Dense(10,\n",
        "                activation='softmax')(y)\n",
        "\n",
        "# Instantiate model.\n",
        "model = Model(inputs=inputs, outputs=outputs)"
      ],
      "metadata": {
        "id": "1pFxDlzSz5It"
      },
      "execution_count": 5,
      "outputs": []
    },
    {
      "cell_type": "code",
      "source": [
        "model.summary()"
      ],
      "metadata": {
        "id": "0_AWFrH6_iiB",
        "outputId": "9e302cc9-151d-4403-c552-a52b682b75cd",
        "colab": {
          "base_uri": "https://localhost:8080/"
        }
      },
      "execution_count": 7,
      "outputs": [
        {
          "output_type": "stream",
          "name": "stdout",
          "text": [
            "Model: \"model\"\n",
            "__________________________________________________________________________________________________\n",
            " Layer (type)                   Output Shape         Param #     Connected to                     \n",
            "==================================================================================================\n",
            " input_1 (InputLayer)           [(None, 28, 28, 1)]  0           []                               \n",
            "                                                                                                  \n",
            " conv2d (Conv2D)                (None, 28, 28, 32)   320         ['input_1[0][0]']                \n",
            "                                                                                                  \n",
            " batch_normalization (BatchNorm  (None, 28, 28, 32)  128         ['conv2d[0][0]']                 \n",
            " alization)                                                                                       \n",
            "                                                                                                  \n",
            " activation (Activation)        (None, 28, 28, 32)   0           ['batch_normalization[0][0]']    \n",
            "                                                                                                  \n",
            " dropout (Dropout)              (None, 28, 28, 32)   0           ['activation[0][0]']             \n",
            "                                                                                                  \n",
            " conv2d_1 (Conv2D)              (None, 28, 28, 32)   1056        ['dropout[0][0]']                \n",
            "                                                                                                  \n",
            " batch_normalization_1 (BatchNo  (None, 28, 28, 32)  128         ['conv2d_1[0][0]']               \n",
            " rmalization)                                                                                     \n",
            "                                                                                                  \n",
            " activation_1 (Activation)      (None, 28, 28, 32)   0           ['batch_normalization_1[0][0]']  \n",
            "                                                                                                  \n",
            " conv2d_2 (Conv2D)              (None, 28, 28, 32)   9248        ['activation_1[0][0]']           \n",
            "                                                                                                  \n",
            " batch_normalization_2 (BatchNo  (None, 28, 28, 32)  128         ['conv2d_2[0][0]']               \n",
            " rmalization)                                                                                     \n",
            "                                                                                                  \n",
            " activation_2 (Activation)      (None, 28, 28, 32)   0           ['batch_normalization_2[0][0]']  \n",
            "                                                                                                  \n",
            " conv2d_4 (Conv2D)              (None, 28, 28, 128)  4224        ['dropout[0][0]']                \n",
            "                                                                                                  \n",
            " conv2d_3 (Conv2D)              (None, 28, 28, 128)  4224        ['activation_2[0][0]']           \n",
            "                                                                                                  \n",
            " add (Add)                      (None, 28, 28, 128)  0           ['conv2d_4[0][0]',               \n",
            "                                                                  'conv2d_3[0][0]']               \n",
            "                                                                                                  \n",
            " batch_normalization_3 (BatchNo  (None, 28, 28, 128)  512        ['add[0][0]']                    \n",
            " rmalization)                                                                                     \n",
            "                                                                                                  \n",
            " activation_3 (Activation)      (None, 28, 28, 128)  0           ['batch_normalization_3[0][0]']  \n",
            "                                                                                                  \n",
            " conv2d_5 (Conv2D)              (None, 14, 14, 128)  16512       ['activation_3[0][0]']           \n",
            "                                                                                                  \n",
            " batch_normalization_4 (BatchNo  (None, 14, 14, 128)  512        ['conv2d_5[0][0]']               \n",
            " rmalization)                                                                                     \n",
            "                                                                                                  \n",
            " activation_4 (Activation)      (None, 14, 14, 128)  0           ['batch_normalization_4[0][0]']  \n",
            "                                                                                                  \n",
            " conv2d_6 (Conv2D)              (None, 14, 14, 128)  147584      ['activation_4[0][0]']           \n",
            "                                                                                                  \n",
            " batch_normalization_5 (BatchNo  (None, 14, 14, 128)  512        ['conv2d_6[0][0]']               \n",
            " rmalization)                                                                                     \n",
            "                                                                                                  \n",
            " activation_5 (Activation)      (None, 14, 14, 128)  0           ['batch_normalization_5[0][0]']  \n",
            "                                                                                                  \n",
            " conv2d_8 (Conv2D)              (None, 14, 14, 256)  33024       ['add[0][0]']                    \n",
            "                                                                                                  \n",
            " conv2d_7 (Conv2D)              (None, 14, 14, 256)  33024       ['activation_5[0][0]']           \n",
            "                                                                                                  \n",
            " add_1 (Add)                    (None, 14, 14, 256)  0           ['conv2d_8[0][0]',               \n",
            "                                                                  'conv2d_7[0][0]']               \n",
            "                                                                                                  \n",
            " batch_normalization_6 (BatchNo  (None, 14, 14, 256)  1024       ['add_1[0][0]']                  \n",
            " rmalization)                                                                                     \n",
            "                                                                                                  \n",
            " activation_6 (Activation)      (None, 14, 14, 256)  0           ['batch_normalization_6[0][0]']  \n",
            "                                                                                                  \n",
            " conv2d_9 (Conv2D)              (None, 7, 7, 256)    65792       ['activation_6[0][0]']           \n",
            "                                                                                                  \n",
            " batch_normalization_7 (BatchNo  (None, 7, 7, 256)   1024        ['conv2d_9[0][0]']               \n",
            " rmalization)                                                                                     \n",
            "                                                                                                  \n",
            " activation_7 (Activation)      (None, 7, 7, 256)    0           ['batch_normalization_7[0][0]']  \n",
            "                                                                                                  \n",
            " conv2d_10 (Conv2D)             (None, 7, 7, 256)    590080      ['activation_7[0][0]']           \n",
            "                                                                                                  \n",
            " batch_normalization_8 (BatchNo  (None, 7, 7, 256)   1024        ['conv2d_10[0][0]']              \n",
            " rmalization)                                                                                     \n",
            "                                                                                                  \n",
            " activation_8 (Activation)      (None, 7, 7, 256)    0           ['batch_normalization_8[0][0]']  \n",
            "                                                                                                  \n",
            " conv2d_12 (Conv2D)             (None, 7, 7, 512)    131584      ['add_1[0][0]']                  \n",
            "                                                                                                  \n",
            " conv2d_11 (Conv2D)             (None, 7, 7, 512)    131584      ['activation_8[0][0]']           \n",
            "                                                                                                  \n",
            " add_2 (Add)                    (None, 7, 7, 512)    0           ['conv2d_12[0][0]',              \n",
            "                                                                  'conv2d_11[0][0]']              \n",
            "                                                                                                  \n",
            " batch_normalization_9 (BatchNo  (None, 7, 7, 512)   2048        ['add_2[0][0]']                  \n",
            " rmalization)                                                                                     \n",
            "                                                                                                  \n",
            " activation_9 (Activation)      (None, 7, 7, 512)    0           ['batch_normalization_9[0][0]']  \n",
            "                                                                                                  \n",
            " average_pooling2d (AveragePool  (None, 7, 7, 512)   0           ['activation_9[0][0]']           \n",
            " ing2D)                                                                                           \n",
            "                                                                                                  \n",
            " flatten (Flatten)              (None, 25088)        0           ['average_pooling2d[0][0]']      \n",
            "                                                                                                  \n",
            " dense (Dense)                  (None, 512)          12845568    ['flatten[0][0]']                \n",
            "                                                                                                  \n",
            " batch_normalization_10 (BatchN  (None, 512)         2048        ['dense[0][0]']                  \n",
            " ormalization)                                                                                    \n",
            "                                                                                                  \n",
            " dropout_1 (Dropout)            (None, 512)          0           ['batch_normalization_10[0][0]'] \n",
            "                                                                                                  \n",
            " dense_1 (Dense)                (None, 10)           5130        ['dropout_1[0][0]']              \n",
            "                                                                                                  \n",
            "==================================================================================================\n",
            "Total params: 14,028,042\n",
            "Trainable params: 14,023,498\n",
            "Non-trainable params: 4,544\n",
            "__________________________________________________________________________________________________\n"
          ]
        }
      ]
    },
    {
      "cell_type": "code",
      "source": [
        "model.compile(optimizer=optimizers.Adam(learning_rate=10), loss=losses.sparse_categorical_crossentropy, metrics=[\"accuracy\"])\n",
        "history = model.fit(x_train, y_train, batch_size=256, epochs=5)"
      ],
      "metadata": {
        "colab": {
          "base_uri": "https://localhost:8080/"
        },
        "id": "F0VmwwLQ0Ak0",
        "outputId": "1908cc6d-1550-4108-e4ce-e14a57e85804"
      },
      "execution_count": 8,
      "outputs": [
        {
          "output_type": "stream",
          "name": "stdout",
          "text": [
            "Epoch 1/5\n",
            "235/235 [==============================] - 1590s 7s/step - loss: 9629.3652 - accuracy: 0.7395\n",
            "Epoch 2/5\n",
            "235/235 [==============================] - 1579s 7s/step - loss: 15216.8770 - accuracy: 0.7736\n",
            "Epoch 3/5\n",
            "235/235 [==============================] - 1577s 7s/step - loss: 36899.5742 - accuracy: 0.8027\n",
            "Epoch 4/5\n",
            "235/235 [==============================] - 1578s 7s/step - loss: 32926.3945 - accuracy: 0.8729\n",
            "Epoch 5/5\n",
            "235/235 [==============================] - 1584s 7s/step - loss: 45294.4141 - accuracy: 0.8876\n"
          ]
        }
      ]
    },
    {
      "cell_type": "code",
      "source": [
        "model.evaluate(x_test, y_test)"
      ],
      "metadata": {
        "id": "PGrxisJtgcQ4",
        "outputId": "c0362bca-9f98-4516-8fd4-cff53c94d1d9",
        "colab": {
          "base_uri": "https://localhost:8080/"
        }
      },
      "execution_count": 9,
      "outputs": [
        {
          "output_type": "stream",
          "name": "stdout",
          "text": [
            "313/313 [==============================] - 62s 195ms/step - loss: 134994.6562 - accuracy: 0.3330\n"
          ]
        },
        {
          "output_type": "execute_result",
          "data": {
            "text/plain": [
              "[134994.65625, 0.3330000042915344]"
            ]
          },
          "metadata": {},
          "execution_count": 9
        }
      ]
    }
  ]
}